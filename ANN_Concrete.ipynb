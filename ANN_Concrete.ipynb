{
  "cells": [
    {
      "cell_type": "code",
      "execution_count": null,
      "metadata": {
        "colab": {
          "base_uri": "https://localhost:8080/"
        },
        "id": "bQWc19zXNH5t",
        "outputId": "2794590d-9c41-40e0-eec3-cfec87c58bbe"
      },
      "outputs": [
        {
          "output_type": "stream",
          "name": "stdout",
          "text": [
            "Mounted at /content/drive\n",
            "current directory :  /content/drive/MyDrive/concrete_ai\n"
          ]
        }
      ],
      "source": [
        "from google.colab import drive\n",
        "drive.mount('/content/drive')\n",
        "import os\n",
        "os.chdir('/content/drive/MyDrive/concrete_ai')\n",
        "cwd = os.getcwd()\n",
        "print('current directory : ', cwd)"
      ]
    },
    {
      "cell_type": "code",
      "execution_count": null,
      "metadata": {
        "id": "0Ju74GThNNCd"
      },
      "outputs": [],
      "source": [
        "import os\n",
        "import data\n",
        "import numpy as np\n",
        "import pandas as pd\n",
        "from utils import utils\n",
        "import tensorflow as tf\n",
        "import printing_callback as callback\n",
        "from keras.layers.core import Dense\n",
        "from keras.models import Sequential\n",
        "from keras.layers import LayerNormalization, Dropout\n",
        "from tensorflow import keras\n",
        "from tensorflow.keras.layers.experimental import RandomFourierFeatures"
      ]
    },
    {
      "cell_type": "code",
      "execution_count": null,
      "metadata": {
        "id": "GgqWFQpwNPl6"
      },
      "outputs": [],
      "source": [
        "INPUT_TITLE = 'amj_data4'\n",
        "OUTPUT_TITLE = 'amj_data4_7days'"
      ]
    },
    {
      "cell_type": "code",
      "execution_count": null,
      "metadata": {
        "colab": {
          "base_uri": "https://localhost:8080/"
        },
        "id": "763PldUINSW5",
        "outputId": "64d9f14c-59c1-4545-f29d-015199d5a4f4"
      },
      "outputs": [
        {
          "output_type": "stream",
          "name": "stdout",
          "text": [
            "loading the data ...\n",
            "data loaded with size:  (914, 17) \n",
            "\n",
            "\n",
            "there is Nan in data\n",
            "\n",
            "\n",
            "shuffling the data ...\n",
            "data shuffled\n",
            "\n",
            "\n",
            "dividing the data ...\n",
            "training data ready with size: (640, 17)\n",
            "test data ready with size: (138, 17)\n",
            "validation data ready with size: (136, 17)\n",
            "data ready with train: (633, 14) and test: (138, 14) and validation: (135, 14)\n"
          ]
        }
      ],
      "source": [
        "train, test, validation = data.getFinalData('data_files/' + INPUT_TITLE + '.xlsx')\n",
        "#train = train[train[:,5] == 30]\n",
        "#test = test[test[:,5] == 30]\n",
        "#validation = validation[validation[:,5] == 30]\n",
        "train, test, validation = data.prepareMultipleData(train, test, validation, [13, 14, 16])\n",
        "\n",
        "#train[:,13], tr1, tr2 = minMaxNormalizeOutput(train[:,13])\n",
        "#test[:,13], te1, te2 = minMaxNormalizeOutput(test[:,13])\n",
        "#validation[:,13], va1, va2 = minMaxNormalizeOutput(validation[:,13])\n",
        "\n",
        "tmp1 = train.shape[1] - 1\n",
        "tmp2 = train.shape[1]\n",
        " \n",
        "xr = train[:,0:tmp1]\n",
        "yr = train[:,tmp1:tmp2]\n",
        "xt = test[:,0:tmp1]\n",
        "yt = test[:,tmp1:tmp2]\n",
        "xv = validation[:,0:tmp1]\n",
        "yv = validation[:,tmp1:tmp2]\n",
        " \n",
        "utils.exceptionIfNan(train)\n",
        "utils.exceptionIfNan(test)\n",
        "utils.exceptionIfNan(validation)\n",
        " \n",
        "print('data ready with train:', train.shape, 'and test:', test.shape,\n",
        "      'and validation:', validation.shape)"
      ]
    },
    {
      "cell_type": "code",
      "execution_count": null,
      "metadata": {
        "colab": {
          "base_uri": "https://localhost:8080/"
        },
        "id": "O8YpBQkJ543W",
        "outputId": "07ecff89-ffc8-42ca-aeee-bf07f40099e0"
      },
      "outputs": [
        {
          "output_type": "stream",
          "name": "stdout",
          "text": [
            "[2.000e+00 1.000e+00 2.000e+01 5.410e+01 4.300e+01 3.000e+01 3.750e+02\n",
            " 5.100e-01 1.900e+02 0.000e+00 1.885e+03 6.800e+02 1.205e+03]\n",
            "[31.1]\n"
          ]
        }
      ],
      "source": [
        "print(xr[1])\n",
        "print(yr[1])"
      ]
    },
    {
      "cell_type": "code",
      "execution_count": null,
      "metadata": {
        "id": "1cZmNL8mN0uD"
      },
      "outputs": [],
      "source": [
        "data.saveData(train, 'train2.xlsx')"
      ]
    },
    {
      "cell_type": "code",
      "execution_count": null,
      "metadata": {
        "id": "-FbQIrc2OSsP"
      },
      "outputs": [],
      "source": [
        "model = utils.newSeqentialModel(xr.shape[1], yr.shape[1])\n",
        "#from keras.models import Model, Sequential\n",
        "#from keras.layers.core import Dense, Dropout\n",
        "#from keras.layers import LayerNormalization\n",
        "\n",
        "#model = Sequential()\n",
        "#model.add(LayerNormalization(input_dim=xr.shape[1]))\n",
        "#model.add(Dropout(0.3))\n",
        "#model.add(Dense(20, activation='relu'))\n",
        "#model.add(Dropout(0.3))\n",
        "#model.add(Dense(10, activation='relu'))\n",
        "#model.add(Dropout(0.3))\n",
        "#model.add(Dense(5, activation='relu'))\n",
        "#model.add(Dense(yr.shape[1]))"
      ]
    },
    {
      "cell_type": "code",
      "execution_count": null,
      "metadata": {
        "colab": {
          "base_uri": "https://localhost:8080/"
        },
        "id": "KhJF8_epN3pD",
        "outputId": "8b4631e1-2f15-4095-daf8-8156700bde75"
      },
      "outputs": [
        {
          "output_type": "stream",
          "name": "stdout",
          "text": [
            "loading model weights ...\n",
            "no previous weights found\n"
          ]
        }
      ],
      "source": [
        "print('loading model weights ...')\n",
        "output_dir = os.path.join(os.getcwd(), \"saved_wights\")\n",
        "try:\n",
        "    model.load_weights(filepath=os.path.join(output_dir, OUTPUT_TITLE + \".h5\"))\n",
        "    print('model weights loaded')\n",
        "except OSError:\n",
        "    print('no previous weights found')\n",
        "except ValueError:\n",
        "    print('previous weights are different from current') "
      ]
    },
    {
      "cell_type": "code",
      "execution_count": null,
      "metadata": {
        "id": "Nd7b0DzJ7Ziw"
      },
      "outputs": [],
      "source": [
        "model.compile(loss='mean_squared_error', optimizer='adam', \n",
        "metrics=[tf.keras.metrics.MeanAbsolutePercentageError()])"
      ]
    },
    {
      "cell_type": "code",
      "execution_count": null,
      "metadata": {
        "colab": {
          "base_uri": "https://localhost:8080/"
        },
        "id": "D6RZJgyQNfml",
        "outputId": "475b03c1-c729-47c1-fa1b-3ecd30644712"
      },
      "outputs": [
        {
          "output_type": "stream",
          "name": "stdout",
          "text": [
            "Trainning model using ANN\n",
            "\n",
            "epoch 0 : loss :  900.35 , MPE :   98.90. validation loss :  884.70 , MPE :   97.92\n",
            "epoch 100 : loss :   28.39 , MPE :   15.48. validation loss :   28.34 , MPE :   15.26\n",
            "epoch 200 : loss :   28.39 , MPE :   15.46. validation loss :   28.34 , MPE :   15.25\n",
            "epoch 300 : loss :   28.40 , MPE :   15.48. validation loss :   28.34 , MPE :   15.24\n",
            "epoch 400 : loss :   28.40 , MPE :   15.50. validation loss :   28.33 , MPE :   15.26\n",
            "epoch 500 : loss :   28.40 , MPE :   15.48. validation loss :   28.33 , MPE :   15.27\n",
            "epoch 600 : loss :   28.40 , MPE :   15.46. validation loss :   28.34 , MPE :   15.25\n",
            "epoch 700 : loss :   28.40 , MPE :   15.51. validation loss :   28.33 , MPE :   15.29\n",
            "epoch 800 : loss :   28.45 , MPE :   15.49. validation loss :   28.34 , MPE :   15.30\n",
            "epoch 900 : loss :   28.40 , MPE :   15.48. validation loss :   28.34 , MPE :   15.25\n",
            "epoch 1000 : loss :   28.39 , MPE :   15.48. validation loss :   28.33 , MPE :   15.27\n",
            "epoch 1100 : loss :   28.41 , MPE :   15.48. validation loss :   28.33 , MPE :   15.26\n",
            "epoch 1200 : loss :   28.40 , MPE :   15.49. validation loss :   28.34 , MPE :   15.26\n",
            "epoch 1300 : loss :   28.39 , MPE :   15.49. validation loss :   28.34 , MPE :   15.26\n",
            "epoch 1400 : loss :   28.35 , MPE :   15.49. validation loss :   28.27 , MPE :   15.20\n",
            "epoch 1500 : loss :   27.96 , MPE :   15.35. validation loss :   28.66 , MPE :   15.43\n",
            "epoch 1600 : loss :   27.25 , MPE :   15.09. validation loss :   29.14 , MPE :   15.44\n",
            "epoch 1700 : loss :   26.97 , MPE :   14.97. validation loss :   28.76 , MPE :   15.32\n",
            "epoch 1800 : loss :   26.72 , MPE :   14.86. validation loss :   29.72 , MPE :   15.41\n",
            "epoch 1900 : loss :   25.66 , MPE :   14.38. validation loss :   30.40 , MPE :   15.73\n",
            "epoch 2000 : loss :   25.65 , MPE :   14.45. validation loss :   30.51 , MPE :   15.73\n",
            "epoch 2100 : loss :   25.07 , MPE :   14.35. validation loss :   31.38 , MPE :   15.97\n",
            "epoch 2200 : loss :   25.99 , MPE :   14.72. validation loss :   31.89 , MPE :   16.04\n",
            "epoch 2300 : loss :   24.21 , MPE :   13.98. validation loss :   32.05 , MPE :   15.99\n",
            "epoch 2400 : loss :   24.21 , MPE :   13.95. validation loss :   31.86 , MPE :   15.95\n",
            "epoch 2500 : loss :   23.44 , MPE :   13.65. validation loss :   31.31 , MPE :   15.67\n",
            "epoch 2600 : loss :   23.01 , MPE :   13.31. validation loss :   33.32 , MPE :   16.19\n",
            "epoch 2700 : loss :   22.30 , MPE :   13.26. validation loss :   33.37 , MPE :   16.10\n",
            "epoch 2800 : loss :   23.45 , MPE :   13.64. validation loss :   35.05 , MPE :   16.53\n",
            "epoch 2900 : loss :   21.39 , MPE :   13.03. validation loss :   36.57 , MPE :   16.74\n",
            "epoch 3000 : loss :   21.22 , MPE :   12.95. validation loss :   37.10 , MPE :   16.88\n",
            "epoch 3100 : loss :   21.38 , MPE :   12.96. validation loss :   36.69 , MPE :   16.83\n",
            "epoch 3200 : loss :   20.79 , MPE :   12.70. validation loss :   36.44 , MPE :   16.71\n",
            "epoch 3300 : loss :   20.81 , MPE :   12.45. validation loss :   38.39 , MPE :   17.21\n",
            "epoch 3400 : loss :   21.93 , MPE :   13.21. validation loss :   34.84 , MPE :   15.95\n",
            "epoch 3500 : loss :   19.84 , MPE :   12.36. validation loss :   39.40 , MPE :   17.64\n",
            "\n",
            "model trained\n"
          ]
        }
      ],
      "source": [
        "print('Trainning model using ANN\\n')\n",
        "model.fit(xr, yr, epochs=20000, batch_size=32, validation_data=(xv, yv), \n",
        "verbose=0, callbacks=[callback.LossAndErrorPrintingCallback(),\n",
        "                      tf.keras.callbacks.EarlyStopping(monitor='val_loss', patience=2000),])\n",
        "print('\\nmodel trained')"
      ]
    },
    {
      "cell_type": "code",
      "execution_count": null,
      "metadata": {
        "colab": {
          "base_uri": "https://localhost:8080/"
        },
        "id": "G5BA6G2j7ls6",
        "outputId": "e314574c-fbe0-4c97-fc64-de5bc463f57e"
      },
      "outputs": [
        {
          "output_type": "stream",
          "name": "stdout",
          "text": [
            "5/5 [==============================] - 0s 4ms/step - loss: 37.9008 - mean_absolute_percentage_error: 16.4772\n",
            "\n",
            "Accuracy on test data: 16.48\n"
          ]
        }
      ],
      "source": [
        "_, accuracy_test = model.evaluate(xt, yt)\n",
        "print('\\nAccuracy on test data: %.2f' % (accuracy_test))"
      ]
    },
    {
      "cell_type": "code",
      "execution_count": null,
      "metadata": {
        "colab": {
          "base_uri": "https://localhost:8080/"
        },
        "id": "1cafyZKoNrFS",
        "outputId": "a649923a-780c-405f-f90a-732d6b33e54f"
      },
      "outputs": [
        {
          "output_type": "stream",
          "name": "stdout",
          "text": [
            " test: predicted: [26.8] real data: [18.3]\n",
            " test: predicted: [32.] real data: [35.5]\n",
            " test: predicted: [29.8] real data: [36.1]\n",
            " test: predicted: [29.] real data: [35.1]\n",
            " test: predicted: [30.] real data: [38.8]\n",
            " test: predicted: [32.] real data: [30.5]\n",
            " test: predicted: [36.3] real data: [27.3]\n",
            " test: predicted: [29.1] real data: [32.6]\n",
            " test: predicted: [35.7] real data: [28.6]\n",
            " test: predicted: [29.6] real data: [26.3]\n",
            " test: predicted: [28.4] real data: [28.6]\n",
            " test: predicted: [27.7] real data: [32.]\n",
            " test: predicted: [30.] real data: [34.6]\n",
            " test: predicted: [30.] real data: [41.2]\n",
            " test: predicted: [23.9] real data: [33.9]\n",
            " test: predicted: [27.9] real data: [27.7]\n",
            " test: predicted: [33.] real data: [37.9]\n",
            " test: predicted: [35.3] real data: [32.8]\n",
            " test: predicted: [30.1] real data: [25.]\n",
            " test: predicted: [36.] real data: [27.]\n"
          ]
        }
      ],
      "source": [
        "test_predictions = np.around(model.predict(xt), 1)\n",
        " \n",
        "for i in range(20):\n",
        "    print(' test: predicted:', test_predictions[i], 'real data:', yt[i])"
      ]
    },
    {
      "cell_type": "markdown",
      "metadata": {
        "id": "omAUyyyhEIzS"
      },
      "source": [
        "**Testing models against lab results**"
      ]
    },
    {
      "cell_type": "code",
      "execution_count": null,
      "metadata": {
        "colab": {
          "base_uri": "https://localhost:8080/"
        },
        "id": "B_J-WR0OEEl_",
        "outputId": "50ca938b-aba9-4b05-ce0d-ea8a91bc1d15"
      },
      "outputs": [
        {
          "output_type": "stream",
          "name": "stdout",
          "text": [
            "testing custom data for 7 days...\n",
            "Grade 25 :\n",
            "expected result : 21.7\n",
            "predicted result : 24.3\n",
            "Grade 30 :\n",
            "expected result : 29.9\n",
            "predicted result : 27.0\n"
          ]
        }
      ],
      "source": [
        "# For 7 days\n",
        "custom = np.array([[1, 1, 20, 26, 38, 25, 350, 0.5, 175, 0, 1875, 725, 1150],\n",
        "                   [1, 1, 20, 26, 43, 30, 375, 0.47, 175, 3, 1850, 700, 1150]])\n",
        "print('testing custom data for 7 days...')\n",
        "customResult = np.around(model.predict(custom), 1)\n",
        "print('Grade 25 :')\n",
        "print('expected result : 21.7')\n",
        "print('predicted result :', customResult[0,0])\n",
        "print('Grade 30 :')\n",
        "print('expected result : 29.9')\n",
        "print('predicted result :', customResult[1,0])"
      ]
    },
    {
      "cell_type": "code",
      "execution_count": null,
      "metadata": {
        "colab": {
          "base_uri": "https://localhost:8080/"
        },
        "id": "9zjpLn-OEGxI",
        "outputId": "e2515557-dcc0-45fe-f98f-e5e50efa8c7d"
      },
      "outputs": [
        {
          "name": "stdout",
          "output_type": "stream",
          "text": [
            "testing custom data for 28 days...\n",
            "Grade 25 :\n",
            "expected result : 30.4\n",
            "predicted result : 29.3\n",
            "Grade 30 :\n",
            "expected result : 42.1\n",
            "predicted result : 31.2\n"
          ]
        }
      ],
      "source": [
        "# For 28 days\n",
        "custom = np.array([[1, 1, 20, 26, 38, 25, 350, 0.5, 175, 0, 1875, 725, 1150],\n",
        "                   [1, 1, 20, 26, 43, 30, 375, 0.47, 175, 3, 1850, 700, 1150]])\n",
        "print('testing custom data for 28 days...')\n",
        "customResult = np.around(model.predict(custom), 1)\n",
        "print('Grade 25 :')\n",
        "print('expected result : 30.4')\n",
        "print('predicted result :', customResult[0,0])\n",
        "print('Grade 30 :')\n",
        "print('expected result : 42.1')\n",
        "print('predicted result :', customResult[1,0])"
      ]
    },
    {
      "cell_type": "code",
      "execution_count": null,
      "metadata": {
        "colab": {
          "base_uri": "https://localhost:8080/"
        },
        "id": "srgGma-kiNy4",
        "outputId": "80b35e1c-fe99-4b05-8ea9-577b5f875955"
      },
      "outputs": [
        {
          "output_type": "stream",
          "name": "stdout",
          "text": [
            "\n",
            "model trained\n",
            "25/25 [==============================] - 0s 2ms/step - loss: 15.2993 - mean_absolute_percentage_error: 10.5712\n",
            "\n",
            "Accuracy on train data: 18.52\n",
            "6/6 [==============================] - 0s 2ms/step - loss: 36.6784 - mean_absolute_percentage_error: 17.2929\n",
            "\n",
            "Accuracy on validation data: 18.52\n",
            "6/6 [==============================] - 0s 2ms/step - loss: 40.5713 - mean_absolute_percentage_error: 18.5242\n",
            "\n",
            "Accuracy on test data: 18.52\n"
          ]
        }
      ],
      "source": [
        "print('\\nmodel trained')\n",
        "_, accuracy_train = model.evaluate(xr, yr)\n",
        "print('\\nAccuracy on train data: %.2f' % (accuracy_test))\n",
        "\n",
        "_, accuracy_validation = model.evaluate(xv, yv)\n",
        "print('\\nAccuracy on validation data: %.2f' % (accuracy_test))\n",
        "\n",
        "_, accuracy_test = model.evaluate(xt, yt)\n",
        "print('\\nAccuracy on test data: %.2f' % (accuracy_test))"
      ]
    },
    {
      "cell_type": "code",
      "execution_count": null,
      "metadata": {
        "colab": {
          "base_uri": "https://localhost:8080/"
        },
        "id": "GSEcdCNdNuOK",
        "outputId": "a896c247-46d0-44b3-8f1b-c1b6edd2e0e9"
      },
      "outputs": [
        {
          "output_type": "stream",
          "name": "stdout",
          "text": [
            "saved data to excel file \n",
            "path: results/tals4_12_7days.xlsx\n"
          ]
        }
      ],
      "source": [
        "result = np.concatenate([xt, yt, test_predictions], axis=1)\n",
        "data.saveData(result, 'results/' + OUTPUT_TITLE +'.xlsx')"
      ]
    },
    {
      "cell_type": "code",
      "execution_count": null,
      "metadata": {
        "colab": {
          "base_uri": "https://localhost:8080/"
        },
        "id": "s5VcmkgL4vfo",
        "outputId": "4cbe352e-c296-4836-8446-983b2b9a8118"
      },
      "outputs": [
        {
          "output_type": "stream",
          "name": "stdout",
          "text": [
            "saved data to excel file \n",
            "path: results/tals4_12_7days_train.xlsx\n",
            "saved data to excel file \n",
            "path: results/tals4_12_7days_validation.xlsx\n"
          ]
        }
      ],
      "source": [
        "train_predictions = np.around(model.predict(xr), 1)\n",
        "result = np.concatenate([xr, yr, train_predictions], axis=1)\n",
        "data.saveData(result, 'results/' + OUTPUT_TITLE +'_train.xlsx')\n",
        "\n",
        "validation_predictions = np.around(model.predict(xv), 1)\n",
        "result = np.concatenate([xv, yv, validation_predictions], axis=1)\n",
        "data.saveData(result, 'results/' + OUTPUT_TITLE +'_validation.xlsx')\n"
      ]
    },
    {
      "cell_type": "code",
      "execution_count": null,
      "metadata": {
        "colab": {
          "base_uri": "https://localhost:8080/"
        },
        "id": "aabIIHmQOEZF",
        "outputId": "322c626b-bff4-4056-80e9-278bf7a0195f"
      },
      "outputs": [
        {
          "output_type": "stream",
          "name": "stdout",
          "text": [
            "\n",
            "saving model weights ...\n",
            "model weights saved\n"
          ]
        }
      ],
      "source": [
        "print('\\nsaving model weights ...')\n",
        "output_dir = os.path.join(os.getcwd(), \"saved_wights\")\n",
        "model.save_weights(filepath=os.path.join(output_dir, OUTPUT_TITLE + \".h5\"))\n",
        "print('model weights saved')"
      ]
    },
    {
      "cell_type": "markdown",
      "metadata": {
        "id": "7l4vWTiPlFQ-"
      },
      "source": [
        "**Trained model with saved weights:**\n",
        "\n",
        "\n",
        "*   all_dataG_40_20_7days\n",
        "*   tals4_12_7days\n"
      ]
    },
    {
      "cell_type": "code",
      "execution_count": null,
      "metadata": {
        "id": "UpDech3Jefk3"
      },
      "outputs": [],
      "source": [
        ""
      ]
    }
  ],
  "metadata": {
    "colab": {
      "collapsed_sections": [],
      "name": "ANN Concrete.ipynb",
      "provenance": []
    },
    "kernelspec": {
      "display_name": "Python 3",
      "name": "python3"
    },
    "language_info": {
      "name": "python"
    }
  },
  "nbformat": 4,
  "nbformat_minor": 0
}